{
 "cells": [
  {
   "cell_type": "code",
   "execution_count": 13,
   "metadata": {},
   "outputs": [],
   "source": [
    "import numpy as np\n",
    "import scipy as sp\n",
    "import pandas as pd\n",
    "import matplotlib.pyplot as plt\n",
    "import math\n",
    "import scipy.interpolate"
   ]
  },
  {
   "cell_type": "markdown",
   "metadata": {},
   "source": [
    "# Схема Ейткена"
   ]
  },
  {
   "cell_type": "code",
   "execution_count": 14,
   "metadata": {},
   "outputs": [],
   "source": [
    "def e_fun(x):\n",
    "    return np.e**(7*x**2+1)\n",
    "def w(xi_N, x0):\n",
    "    s = 1\n",
    "    for i in range(len(xi_N)):\n",
    "        s *= x0-xi_N[i]\n",
    "    #print(\"w\", s)\n",
    "    return s"
   ]
  },
  {
   "cell_type": "code",
   "execution_count": 15,
   "metadata": {},
   "outputs": [],
   "source": [
    "def schemaAitken(xi, yi, x0):\n",
    "    n = len(xi)\n",
    "    t = (n, n)\n",
    "    q = np.zeros(t)\n",
    "    q[0] = yi\n",
    "    for i in range(1, n):\n",
    "        for j in range(i, n):\n",
    "            q[i,j] = round(((x0 - xi[j]) * q[i-1,j-i] - (x0 - xi[j-i]) * q[i-1,j]) / (xi[j-i] - xi[j]), 3)\n",
    "    return(q.T)"
   ]
  },
  {
   "cell_type": "code",
   "execution_count": 25,
   "metadata": {},
   "outputs": [],
   "source": [
    "def get_index(arr):\n",
    "    for i in range(len(arr)-2):\n",
    "        if abs(arr[i]-arr[i+1]) <= abs(arr[i+1]-arr[i+2]):\n",
    "            d = arr.index(arr[i])\n",
    "            \n",
    "    return d"
   ]
  },
  {
   "cell_type": "code",
   "execution_count": 26,
   "metadata": {},
   "outputs": [
    {
     "name": "stdout",
     "output_type": "stream",
     "text": [
      "[0.1, 0.2, 0.3] [-4.094, -3.401, -2.996]\n",
      "[[-4.094  0.     0.   ]\n",
      " [-3.401 -3.089  0.   ]\n",
      " [-2.996 -3.219 -2.334]]\n"
     ]
    },
    {
     "data": {
      "text/plain": [
       "[-4.094, -3.089, -2.334]"
      ]
     },
     "execution_count": 26,
     "metadata": {},
     "output_type": "execute_result"
    }
   ],
   "source": [
    "xi = [round(i*0.1, 1) for i in range(6)]\n",
    "yi = [round(e_fun(i),3) for i in xi]\n",
    "print(xi, yi)\n",
    "x0 = 0.245\n",
    "SA = schemaAitken(xi, yi, x0)\n",
    "print(SA)\n",
    "a_v = []\n",
    "for i in range(len(xi)):\n",
    "    a_v.append(SA[i,i])\n",
    "a_v"
   ]
  },
  {
   "cell_type": "code",
   "execution_count": 27,
   "metadata": {},
   "outputs": [
    {
     "data": {
      "text/plain": [
       "2"
      ]
     },
     "execution_count": 27,
     "metadata": {},
     "output_type": "execute_result"
    }
   ],
   "source": [
    "index = get_index(a_v)\n",
    "index"
   ]
  },
  {
   "cell_type": "code",
   "execution_count": 28,
   "metadata": {},
   "outputs": [
    {
     "data": {
      "text/plain": [
       "-2.334"
      ]
     },
     "execution_count": 28,
     "metadata": {},
     "output_type": "execute_result"
    }
   ],
   "source": [
    "answer = a_v[index]\n",
    "answer"
   ]
  },
  {
   "cell_type": "markdown",
   "metadata": {},
   "source": [
    "# Інтерполяційний поліном Лагранжа"
   ]
  },
  {
   "cell_type": "code",
   "execution_count": 33,
   "metadata": {},
   "outputs": [],
   "source": [
    "def interpolate_polinom_of_lagrange(xi, yi):\n",
    "    return scipy.interpolate.lagrange(xi, yi)\n",
    "def fun_value(arr_coef, x0):\n",
    "    p = np.poly1d(PL)\n",
    "    return p(x0)\n",
    "def y_(arr_coef, x):\n",
    "    p = np.poly1d(PL)\n",
    "    y = p(x)\n",
    "    return y"
   ]
  },
  {
   "cell_type": "code",
   "execution_count": 34,
   "metadata": {},
   "outputs": [
    {
     "name": "stdout",
     "output_type": "stream",
     "text": [
      "[-14.4, 11.25, -5.075]\n",
      "Polinom of Lagrange:-14.4 *x^ 2 +11.25 *x^ 1 +-5.075\n",
      "L(x0)= -3.18311\n",
      "похибка =  0.0151\n"
     ]
    }
   ],
   "source": [
    "xiIL = [round(i*0.1, 3) for i in range(5)]\n",
    "yiIL = [round(e_fun(i),3) for i in xiIL]\n",
    "PL = [round(i, 3) for i in interpolate_polinom_of_lagrange(xiIL, yiIL)]\n",
    "print(PL)\n",
    "w_1 = np.polynomial.polynomial.Polynomial(PL)\n",
    "x0 = 0.245\n",
    "print(\"Polinom of Lagrange:\", end = \"\")\n",
    "for i in range(len(PL)-1):\n",
    "      print(PL[i],\"*x^\",len(PL)-1-i, \"+\", end = \"\")\n",
    "print(PL[len(PL)-1])\n",
    "print(\"L(x0)=\", fun_value(PL, x0))\n",
    "error = abs(e_fun(x0) - fun_value(PL, x0))\n",
    "print(\"похибка = \", round(error, 4))"
   ]
  },
  {
   "cell_type": "code",
   "execution_count": 35,
   "metadata": {},
   "outputs": [
    {
     "data": {
      "image/png": "[encoded data removed]",
      "text/plain": [
       "<Figure size 432x288 with 1 Axes>"
      ]
     },
     "metadata": {},
     "output_type": "display_data"
    }
   ],
   "source": [
    "x = np.linspace(-0.6, 0.6)\n",
    "y = e_fun(x)\n",
    "m = len(PL)-1\n",
    "#p = np.poly1d(PL)\n",
    "fig, ax = plt.subplots()\n",
    "ax.plot(x, y , label=\"function that aproximate\")\n",
    "ax.plot(x, y_(PL, x), label=\"aproximate function\")\n",
    "ax.plot(xiIL, y_(PL, xiIL), color=\"red\", ls=' ', marker='o')\n",
    "ax.set_xlabel('x')\n",
    "ax.set_ylabel('y')\n",
    "ax.set_title('title')\n",
    "ax.legend(loc=2); # upper left corner"
   ]
  },
  {
   "cell_type": "markdown",
   "metadata": {},
   "source": [
    "# Інтерполяційний поліном Н'ютона"
   ]
  },
  {
   "cell_type": "code",
   "execution_count": 38,
   "metadata": {},
   "outputs": [],
   "source": [
    "def PN(yi_N, h):\n",
    "    n = len(yi_N)\n",
    "    t = (n, n)\n",
    "    q = np.zeros(t)\n",
    "    q[0] = yi_N\n",
    "    for i in range(1, n):\n",
    "        for j in range(i, n):\n",
    "            q[i,j] = round((q[i-1,j] - q[i-1,j-i]) / (h**i*math.factorial(i)), 3)\n",
    "            \n",
    "    return (q.T)\n",
    "\n",
    "def get_pn(xi_N, pol_coef, x0):\n",
    "    fun = pol_coef[0]\n",
    "    for i in range(1, len(xi_N)):\n",
    "        fun += pol_coef[i]*w(xi_N[:i], x0)\n",
    "        #print(\"f\", fun)\n",
    "    return fun\n",
    "def y_n(xi_N, pol_coef, x):\n",
    "    return get_pn(xi_N, pol_coef, x)"
   ]
  },
  {
   "cell_type": "code",
   "execution_count": 39,
   "metadata": {},
   "outputs": [
    {
     "name": "stdout",
     "output_type": "stream",
     "text": [
      "[0.1, 0.2, 0.3] [-4.094, -3.401, -2.996]\n",
      "[[ -4.094   0.      0.   ]\n",
      " [ -3.401   6.93    0.   ]\n",
      " [ -2.996   4.05  202.5  ]]\n",
      "a v of f in 0.245 is -1.77\n",
      "похибка =  1.43\n"
     ]
    }
   ],
   "source": [
    "h=0.25\n",
    "xi_N = [round(i*h, 3) for i in range(5)]\n",
    "yi_N = [round(e_fun(i),3) for i in xi_N]\n",
    "x0 = 0.245\n",
    "print(xi_N, yi_N)\n",
    "PN_d = PN(yi_N, h)\n",
    "\n",
    "print(PN_d)\n",
    "pol_coef = [PN_d[i,i] for i in range(len(xi_N))]\n",
    "print(\"a v of f in\", x0, \"is\",round(get_pn(xi_N, pol_coef, x0),2))\n",
    "error = round(abs(e_fun(x0) - get_pn(xi_N, pol_coef, x0)), 2)\n",
    "print(\"похибка = \", round(error, 4))"
   ]
  },
  {
   "cell_type": "code",
   "execution_count": 42,
   "metadata": {},
   "outputs": [
    {
     "data": {
      "image/png": "[encoded data removed]",
      "text/plain": [
       "<Figure size 432x288 with 1 Axes>"
      ]
     },
     "metadata": {},
     "output_type": "display_data"
    }
   ],
   "source": [
    "x = np.linspace(-1, 1)\n",
    "y = e_fun(x)\n",
    "\n",
    "fig, ax = plt.subplots()\n",
    "ax.plot(x, y , label=\"Interpolate function\")\n",
    "ax.plot(x, y_n(xi_N, pol_coef, x))\n",
    "#ax.plot(xi, e_fun(xi), color=\"red\", ls=' ', marker='o')\n",
    "ax.set_xlabel('x')\n",
    "ax.set_ylabel('y')\n",
    "ax.set_title('title')\n",
    "ax.legend(loc=2); # upper left corner"
   ]
  },
  {
   "cell_type": "code",
   "execution_count": null,
   "metadata": {},
   "outputs": [],
   "source": []
  }
 ],
 "metadata": {
  "kernelspec": {
   "display_name": "Python 3",
   "language": "python",
   "name": "python3"
  },
  "language_info": {
   "codemirror_mode": {
    "name": "ipython",
    "version": 3
   },
   "file_extension": ".py",
   "mimetype": "text/x-python",
   "name": "python",
   "nbconvert_exporter": "python",
   "pygments_lexer": "ipython3",
   "version": "3.6.5"
  }
 },
 "nbformat": 4,
 "nbformat_minor": 2
}
