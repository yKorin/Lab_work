{
 "cells": [
  {
   "cell_type": "code",
   "execution_count": 2,
   "metadata": {},
   "outputs": [],
   "source": [
    "import numpy as np\n",
    "import scipy as sp\n",
    "import pandas as pd\n",
    "import matplotlib.pyplot as plt\n",
    "import math"
   ]
  },
  {
   "cell_type": "code",
   "execution_count": 12,
   "metadata": {},
   "outputs": [
    {
     "name": "stdout",
     "output_type": "stream",
     "text": [
      "xi =  [1 2 3 4] \n",
      "yi =  [ 1.     3.98   8.94  16.052] \n",
      "n =  4 \n",
      "xi_a =  2.5 \n",
      "yi_a =  7.49\n"
     ]
    }
   ],
   "source": [
    "xi = [i for i in range(1, 5)]\n",
    "#yi = [1.1, 4.9, 11.2, 18.8, 29.3, 40.1]\n",
    "yi = [1,3.98,8.94,16.052]\n",
    "n = len(xi)\n",
    "xi = np.array(xi)\n",
    "yi = np.array(yi)\n",
    "xi_a = np.sum(xi)/n\n",
    "yi_a = round(np.sum(yi)/n, 2)\n",
    "print(\"xi = \", xi, \"\\nyi = \", yi, \"\\nn = \", n, \"\\nxi_a = \", xi_a, \"\\nyi_a = \", yi_a)"
   ]
  },
  {
   "cell_type": "code",
   "execution_count": 13,
   "metadata": {},
   "outputs": [
    {
     "name": "stdout",
     "output_type": "stream",
     "text": [
      "a =  5.01 \n",
      "b =  -5.03\n"
     ]
    }
   ],
   "source": [
    "a = round((n*np.sum(xi*yi) - np.sum(xi)*np.sum(yi))/(n*np.sum(xi**2)-np.sum(xi)**2),2)\n",
    "b = round(yi_a - a*xi_a, 2)\n",
    "print(\"a = \", a, \"\\nb = \", b)\n"
   ]
  },
  {
   "cell_type": "code",
   "execution_count": 14,
   "metadata": {},
   "outputs": [
    {
     "name": "stdout",
     "output_type": "stream",
     "text": [
      "equal liner aproxinate: y = 13.9*x - 0.52\n"
     ]
    },
    {
     "data": {
      "image/png": "[encoded data removed]",
      "text/plain": [
       "<Figure size 432x288 with 1 Axes>"
      ]
     },
     "metadata": {},
     "output_type": "display_data"
    }
   ],
   "source": [
    "x = np.linspace(1,4,4)\n",
    "y = a*x+b\n",
    "print(\"equal liner aproxinate: y = 13.9*x - 0.52\")\n",
    "fig, ax = plt.subplots()\n",
    "ax.plot(x, y, 'o-')\n",
    "ax.set(xlabel='x', ylabel='y', title='Approximate liner function')\n",
    "ax.grid()\n",
    "ax.plot(xi, yi, color=\"red\", ls=' ', marker='o')\n",
    "plt.show()"
   ]
  },
  {
   "cell_type": "code",
   "execution_count": 22,
   "metadata": {},
   "outputs": [
    {
     "name": "stdout",
     "output_type": "stream",
     "text": [
      "6.72\n"
     ]
    }
   ],
   "source": [
    "d = round(np.max(abs(y-yi)), 2)\n",
    "print(d)"
   ]
  },
  {
   "cell_type": "code",
   "execution_count": 23,
   "metadata": {},
   "outputs": [
    {
     "name": "stdout",
     "output_type": "stream",
     "text": [
      "83.92\n"
     ]
    }
   ],
   "source": [
    "y6 = a*6-b\n",
    "print(round(y6, 2))"
   ]
  },
  {
   "cell_type": "markdown",
   "metadata": {},
   "source": [
    "#### square aproximate"
   ]
  },
  {
   "cell_type": "markdown",
   "metadata": {},
   "source": [
    "y = c + bx + ax^2"
   ]
  },
  {
   "cell_type": "code",
   "execution_count": 24,
   "metadata": {},
   "outputs": [],
   "source": [
    "xisq = np.array(xi**2)"
   ]
  },
  {
   "cell_type": "code",
   "execution_count": 122,
   "metadata": {},
   "outputs": [],
   "source": [
    "a = round((n*np.sum(xisq*yi) - np.sum(xisq)*np.sum(yi))/(n*np.sum(xi**4)-np.sum(xisq)**2),2)\n",
    "b = round(np.sum(xi*yi)/(n*np.sum(xisq)), 2)\n",
    "c = round(yi_a - a*np.sum(xisq)/n - b*xi_a, 2)\n"
   ]
  },
  {
   "cell_type": "code",
   "execution_count": 123,
   "metadata": {},
   "outputs": [
    {
     "name": "stdout",
     "output_type": "stream",
     "text": [
      "a =  2.71 \n",
      "b =  2.29 \n",
      "c =  3.66\n"
     ]
    }
   ],
   "source": [
    "print(\"a = \", a, \"\\nb = \", b, \"\\nc = \", c)"
   ]
  },
  {
   "cell_type": "code",
   "execution_count": 124,
   "metadata": {},
   "outputs": [
    {
     "name": "stdout",
     "output_type": "stream",
     "text": [
      "equal square aproxinate: y = 2.71*x^2 + 82.56*x - 197.01\n"
     ]
    },
    {
     "data": {
      "image/png": "[encoded data removed]",
      "text/plain": [
       "<Figure size 432x288 with 1 Axes>"
      ]
     },
     "metadata": {},
     "output_type": "display_data"
    }
   ],
   "source": [
    "x = np.linspace(0,5,6)\n",
    "y = a*x**2 + b*x + c\n",
    "print(\"equal square aproxinate: y = 2.71*x^2 + 82.56*x - 197.01\")\n",
    "fig, ax = plt.subplots()\n",
    "ax.plot(x, y, 'o-')\n",
    "ax.set(xlabel='x', ylabel='y', title='Approximate liner function')\n",
    "ax.grid()\n",
    "ax.plot(xi, yi, color=\"red\", ls=' ', marker='o')\n",
    "plt.show()"
   ]
  },
  {
   "cell_type": "code",
   "execution_count": 125,
   "metadata": {},
   "outputs": [
    {
     "name": "stdout",
     "output_type": "stream",
     "text": [
      "7.86\n"
     ]
    }
   ],
   "source": [
    "d = round(np.max(abs(y-yi)), 2)\n",
    "print(d)"
   ]
  },
  {
   "cell_type": "code",
   "execution_count": null,
   "metadata": {},
   "outputs": [],
   "source": []
  }
 ],
 "metadata": {
  "kernelspec": {
   "display_name": "Python 3",
   "language": "python",
   "name": "python3"
  },
  "language_info": {
   "codemirror_mode": {
    "name": "ipython",
    "version": 3
   },
   "file_extension": ".py",
   "mimetype": "text/x-python",
   "name": "python",
   "nbconvert_exporter": "python",
   "pygments_lexer": "ipython3",
   "version": "3.6.5"
  }
 },
 "nbformat": 4,
 "nbformat_minor": 2
}
